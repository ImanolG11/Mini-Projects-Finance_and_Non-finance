{
  "nbformat": 4,
  "nbformat_minor": 0,
  "metadata": {
    "colab": {
      "provenance": [],
      "authorship_tag": "ABX9TyPtX9BxNXWda64W2YToyTxe",
      "include_colab_link": true
    },
    "kernelspec": {
      "name": "python3",
      "display_name": "Python 3"
    },
    "language_info": {
      "name": "python"
    }
  },
  "cells": [
    {
      "cell_type": "markdown",
      "metadata": {
        "id": "view-in-github",
        "colab_type": "text"
      },
      "source": [
        "<a href=\"https://colab.research.google.com/github/ImanolG11/Mini-Projects-Finance_and_Non-finance/blob/main/compound_interest.ipynb\" target=\"_parent\"><img src=\"https://colab.research.google.com/assets/colab-badge.svg\" alt=\"Open In Colab\"/></a>"
      ]
    },
    {
      "cell_type": "code",
      "source": [
        "try:\n",
        "  capital = float(input(\"Please input desired amount (€):\", ))\n",
        "  annual_interest_rate = float(input(\"Please input annual interest rate (%):\",))\n",
        "  inv_lenght = int(input(\"Please input desired lenght of investment (yrs):\",))\n",
        "\n",
        "  'Optional'\n",
        "  #print(f\"{capital:.2f}€\")\n",
        "  #print(f\"{annual_interest_rate:.2f}%\")\n",
        "  #print(f\"{inv_lenght:.2f} years\")\n",
        "\n",
        "  final = capital * (1+(annual_interest_rate/100))**inv_lenght\n",
        "  print(f\"The value of the investment at the end of the {inv_lenght} year period, at a {annual_interest_rate} interest rate, is of {final:.2f} €\")\n",
        "\n",
        "\n",
        "except ValueError:\n",
        "  print(\"Could not calculate. Please introduce a valid number\")\n",
        "\n",
        "\n",
        ""
      ],
      "metadata": {
        "colab": {
          "base_uri": "https://localhost:8080/"
        },
        "id": "bLCdgJKAdDBd",
        "outputId": "359c66b1-a8f5-42c8-8dab-ea9a5a548b86"
      },
      "execution_count": 111,
      "outputs": [
        {
          "output_type": "stream",
          "name": "stdout",
          "text": [
            "Please input desired amount (€):5\n",
            "Please input annual interest rate (%):5\n",
            "Please input desired lenght of investment (yrs):5\n",
            "The value of the investment at the end of the 5 year period, at a 5.0 interest rate, is of 6.38 €\n"
          ]
        }
      ]
    },
    {
      "cell_type": "code",
      "source": [
        "for i in range(1, inv_lenght+1):\n",
        "\n",
        "  final = capital * (1+(annual_interest_rate/100))**i\n",
        "  i = i+1\n",
        "  print(f\"End of year {i-1}: {final:.2f} €\")"
      ],
      "metadata": {
        "colab": {
          "base_uri": "https://localhost:8080/"
        },
        "id": "R0cnEOKzqb-Z",
        "outputId": "b5541522-ebba-4e17-898b-d6c32c8ad96f"
      },
      "execution_count": 112,
      "outputs": [
        {
          "output_type": "stream",
          "name": "stdout",
          "text": [
            "End of year 1: 5.25 €\n",
            "End of year 2: 5.51 €\n",
            "End of year 3: 5.79 €\n",
            "End of year 4: 6.08 €\n",
            "End of year 5: 6.38 €\n"
          ]
        }
      ]
    },
    {
      "cell_type": "code",
      "source": [
        "def compound_interest(capital, annual_interest_rate, inv_lenght):\n",
        "  try:\n",
        "    capital = float(input(\"Please input desired amount (€):\", ))\n",
        "    annual_interest_rate = float(input(\"Please input annual interest rate (%):\",))\n",
        "    inv_lenght = int(input(\"Please input desired lenght of investment (yrs):\",))\n",
        "    print(f\"{capital:.2f}€\")\n",
        "    print(f\"{annual_interest_rate:.2f}%\")\n",
        "    print(f\"{inv_lenght:.2f} years\")\n",
        "\n",
        "    final = capital * (1+(annual_interest_rate/100))**inv_lenght\n",
        "    print(f\"The value of the investment at the end of the {inv_lenght} year period, at a {annual_interest_rate} interest rate, is of {final:.2f} €\")\n",
        "\n",
        "\n",
        "  except ValueError:\n",
        "    print(\"Could not calculate. Please introduce a valid number\")\n",
        "\n",
        "  for i in range(1, inv_lenght+1):\n",
        "\n",
        "    final = capital * (1+(annual_interest_rate/100))**i\n",
        "    i = i+1\n",
        "    print(f\"End of year {i-1}: {final:.2f} €\")\n",
        "\n",
        "  return\n",
        "\n",
        "compound_interest(capital, annual_interest_rate, inv_lenght)\n",
        "\n",
        "\n",
        "\n"
      ],
      "metadata": {
        "colab": {
          "base_uri": "https://localhost:8080/"
        },
        "id": "kmnw7IFawp9J",
        "outputId": "618a960f-b8aa-492f-df54-29ce9be4a34e"
      },
      "execution_count": 114,
      "outputs": [
        {
          "output_type": "stream",
          "name": "stdout",
          "text": [
            "Please input desired amount (€):5\n",
            "Please input annual interest rate (%):5\n",
            "Please input desired lenght of investment (yrs):5\n",
            "5.00€\n",
            "5.00%\n",
            "5.00 years\n",
            "The value of the investment at the end of the 5 year period, at a 5.0 interest rate, is of 6.38 €\n",
            "End of year 1: 5.25 €\n",
            "End of year 2: 5.51 €\n",
            "End of year 3: 5.79 €\n",
            "End of year 4: 6.08 €\n",
            "End of year 5: 6.38 €\n"
          ]
        }
      ]
    }
  ]
}