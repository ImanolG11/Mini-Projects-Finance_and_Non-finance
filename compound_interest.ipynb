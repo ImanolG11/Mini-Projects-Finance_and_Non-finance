{
  "nbformat": 4,
  "nbformat_minor": 0,
  "metadata": {
    "colab": {
      "provenance": [],
      "authorship_tag": "ABX9TyOBMWsANdoYLQHLYbG5U/wa",
      "include_colab_link": true
    },
    "kernelspec": {
      "name": "python3",
      "display_name": "Python 3"
    },
    "language_info": {
      "name": "python"
    }
  },
  "cells": [
    {
      "cell_type": "markdown",
      "metadata": {
        "id": "view-in-github",
        "colab_type": "text"
      },
      "source": [
        "<a href=\"https://colab.research.google.com/github/ImanolG11/Projects-Finance_and_Non-finance/blob/main/compound_interest.ipynb\" target=\"_parent\"><img src=\"https://colab.research.google.com/assets/colab-badge.svg\" alt=\"Open In Colab\"/></a>"
      ]
    },
    {
      "cell_type": "markdown",
      "source": [
        "**COMPOUND INTEREST CALCULATOR - PROJECT DESCRIPTION**\n",
        "\n",
        "*Compound Interest Calculator with Flexible Contributions and Compounding Frequency*\n",
        "\n",
        "This project consists of a Python-based compound interest simulator, designed to model investment growth under different contribution and compounding schemes.\n",
        "\n",
        "The user can input an ***initial capital, annual interest rate, investment period, and periodic contributions*** (either annual or monthly).\n",
        "The program allows choosing whether ***contributions*** are made at the ***beginning or end of each period***, and supports both ***nominal and effective interest*** rate calculations.\n",
        "\n",
        "The tool calculates and displays the final portfolio value, total amount contributed, and the resulting ***net profit***, showing how small changes in contribution timing or compounding frequency affect long-term returns.\n",
        "\n",
        "**KEY-FEATURES**\n",
        "\n",
        "*   Annual or monthly compounding\n",
        "*   User-defined contribution frequency (annual or monthly)\n",
        "*   Support for nominal and effective interest rate formulas.\n",
        "*   Option to invest contributions at the beginning or end of each period\n",
        "*   Real-time calculation of total invested capital and net profit\n",
        "*   Input validation and error handling.\n",
        "\n",
        "**Final Reflection**\n",
        "\n",
        "This project has been a valuable introduction to combining programming with financial analysis.\n",
        "Through the development of a compound interest calculator, I learned how to translate key investment concepts — such as compounding frequency, contribution timing, and nominal versus effective interest rates — into functional Python code.\n",
        "\n",
        "The process strengthened my understanding of control flow, error handling, and numerical computation, while also reinforcing fundamental financial principles related to compound growth and the time value of money.\n",
        "Although the current version already includes annual and monthly compounding, contribution flexibility, and net profit analysis, I do not consider the project completely finished.\n",
        "\n",
        "In the future, I intend to build upon this foundation by incorporating data visualization tools, automated data export, and more advanced financial modeling features.\n",
        "\n",
        "Overall, this project has provided a strong foundation in both programming and financial reasoning, offering multiple possibilities for further development and refinement.\n",
        "\n"
      ],
      "metadata": {
        "id": "WRc8AbYcJavt"
      }
    },
    {
      "cell_type": "markdown",
      "source": [
        "**CALCULATION OF TOTAL AMOUNT**"
      ],
      "metadata": {
        "id": "6aywVHBwLfB_"
      }
    },
    {
      "cell_type": "code",
      "source": [
        "try:\n",
        "  capital = float(input(\"Please input desired amount (€):\", ))\n",
        "  annual_interest_rate = float(input(\"Please input annual interest rate (%):\",))\n",
        "  inv_lenght = int(input(\"Please input desired lenght of investment (yrs):\",))\n",
        "\n",
        "  'Optional'\n",
        "  #print(f\"{capital:.2f}€\")\n",
        "  #print(f\"{annual_interest_rate:.2f}%\")\n",
        "  #print(f\"{inv_lenght:.2f} years\")\n",
        "\n",
        "  final = capital * (1+(annual_interest_rate/100))**inv_lenght\n",
        "  print(f\"The value of the investment at the end of the {inv_lenght} year period, at a {annual_interest_rate}% interest rate, is of {final:.2f} €\")\n",
        "\n",
        "\n",
        "except ValueError:\n",
        "  print(\"Could not calculate. Please introduce a valid number\")\n",
        "\n",
        "\n"
      ],
      "metadata": {
        "colab": {
          "base_uri": "https://localhost:8080/"
        },
        "id": "bLCdgJKAdDBd",
        "outputId": "4ebcc274-69c0-4436-f0ae-f973e0e0695a"
      },
      "execution_count": null,
      "outputs": [
        {
          "output_type": "stream",
          "name": "stdout",
          "text": [
            "Please input desired amount (€):5\n",
            "Please input annual interest rate (%):5\n",
            "Please input desired lenght of investment (yrs):5\n",
            "The value of the investment at the end of the 5 year period, at a 5.0% interest rate, is of 6.38 €\n"
          ]
        }
      ]
    },
    {
      "cell_type": "markdown",
      "source": [
        "**CALCULATION OF YEARLY TOTAL AMOUNT**"
      ],
      "metadata": {
        "id": "1x-w88gidMZX"
      }
    },
    {
      "cell_type": "code",
      "source": [
        "for i in range(1, inv_lenght+1):\n",
        "\n",
        "  final = capital * (1+(annual_interest_rate/100))**i\n",
        "  i = i+1\n",
        "  print(f\"End of year {i-1}: {final:.2f} €\")"
      ],
      "metadata": {
        "colab": {
          "base_uri": "https://localhost:8080/"
        },
        "id": "R0cnEOKzqb-Z",
        "outputId": "06019929-941c-4d4d-aa3d-b9a41273ab8b"
      },
      "execution_count": null,
      "outputs": [
        {
          "output_type": "stream",
          "name": "stdout",
          "text": [
            "End of year 1: 5.25 €\n",
            "End of year 2: 5.51 €\n",
            "End of year 3: 5.79 €\n",
            "End of year 4: 6.08 €\n",
            "End of year 5: 6.38 €\n"
          ]
        }
      ]
    },
    {
      "cell_type": "markdown",
      "source": [
        "**OVERALL VIEW + INCORPORATION OF EXCEPTION HANDLING**"
      ],
      "metadata": {
        "id": "easYmIugdTH2"
      }
    },
    {
      "cell_type": "code",
      "source": [
        "def compound_interest():\n",
        "  try:\n",
        "    capital = float(input(\"Please input desired amount (€):\", ))\n",
        "    annual_interest_rate = float(input(\"Please input annual interest rate (%):\",))\n",
        "    inv_lenght = input(\"Please input desired lenght of investment (yrs):\",)\n",
        "    'Optional'\n",
        "    #print(f\"{capital:.2f}€\")\n",
        "    #print(f\"{annual_interest_rate:.2f}%\")\n",
        "    #print(f\"{inv_lenght:.2f} years\")\n",
        "\n",
        "    years = float(inv_lenght)\n",
        "    if years < 0 or years.is_integer() == False:\n",
        "      print(\"Could not calculate. Years can not be negative or contain decimals\")\n",
        "      return\n",
        "\n",
        "    inv_lenght = int(inv_lenght)\n",
        "\n",
        "    final = capital * (1+(annual_interest_rate/100))**inv_lenght\n",
        "    print(f\"The value of the investment at the end of the {inv_lenght} year period, at a {annual_interest_rate}% interest rate, is of {final:.2f} €\")\n",
        "\n",
        "    for i in range(1, inv_lenght+1):\n",
        "\n",
        "      final = capital * (1+(annual_interest_rate/100))**i\n",
        "\n",
        "      print(f\"End of year {i}: {final:.2f} €\")\n",
        "\n",
        "\n",
        "  except ValueError:\n",
        "    print(\"Could not calculate. Please introduce a valid number\")\n",
        "  except OverflowError:\n",
        "    print(\"Could not calculate. Please introduce smaller values\")\n",
        "\n",
        "\n",
        "\n",
        "  return\n",
        "\n",
        "compound_interest()"
      ],
      "metadata": {
        "colab": {
          "base_uri": "https://localhost:8080/"
        },
        "id": "kmnw7IFawp9J",
        "outputId": "2786947f-f53e-4d22-9b94-964f6abbea43"
      },
      "execution_count": null,
      "outputs": [
        {
          "output_type": "stream",
          "name": "stdout",
          "text": [
            "Please input desired amount (€):3\n",
            "Please input annual interest rate (%):3\n",
            "Please input desired lenght of investment (yrs):3\n",
            "The value of the investment at the end of the 3 year period, at a 3.0% interest rate, is of 3.28 €\n",
            "End of year 1: 3.09 €\n",
            "End of year 2: 3.18 €\n",
            "End of year 3: 3.28 €\n"
          ]
        }
      ]
    },
    {
      "cell_type": "markdown",
      "source": [
        "**SAVING DATA ON .TXT FILES**"
      ],
      "metadata": {
        "id": "aAEgwv7ldghd"
      }
    },
    {
      "cell_type": "code",
      "source": [
        "\n",
        "def compound_interest():\n",
        "  try:\n",
        "    capital = float(input(\"Please input desired amount (€):\", ))\n",
        "    annual_interest_rate = float(input(\"Please input annual interest rate (%):\",))\n",
        "    inv_lenght = input(\"Please input desired lenght of investment (yrs):\",)\n",
        "    'Optional'\n",
        "    #print(f\"{capital:.2f}€\")\n",
        "    #print(f\"{annual_interest_rate:.2f}%\")\n",
        "    #print(f\"{inv_lenght:.2f} years\")\n",
        "\n",
        "    years = float(inv_lenght)\n",
        "    if years < 0 or years.is_integer() == False:\n",
        "      print(\"Could not calculate. Years can not be negative or contain decimals\")\n",
        "      return\n",
        "\n",
        "    inv_lenght = int(inv_lenght)\n",
        "\n",
        "    final = capital * (1+(annual_interest_rate/100))**inv_lenght\n",
        "    with open(\"results.txt\", \"w\") as f:\n",
        "      f.write(f\"The value of the investment at the end of the {inv_lenght} year period, at a {annual_interest_rate}% interest rate, is of {final:.2f} €\\n\")\n",
        "    print(f\"The value of the investment at the end of the {inv_lenght} year period, at a {annual_interest_rate}% interest rate, is of {final:.2f} €\")\n",
        "\n",
        "\n",
        "    for i in range(1, inv_lenght+1):\n",
        "\n",
        "      final = capital * (1+(annual_interest_rate/100))**i\n",
        "      with open(\"results.txt\", \"a\") as f:\n",
        "        f.write(f\"End of year {i}: {final:.2f} €\\n\")\n",
        "      print(f\"End of year {i}: {final:.2f} €\")\n",
        "\n",
        "\n",
        "  except ValueError:\n",
        "    print(\"Could not calculate. Please introduce a valid number\")\n",
        "  except OverflowError:\n",
        "    print(\"Could not calculate. Please introduce smaller values\")\n",
        "\n",
        "\n",
        "\n",
        "  return\n",
        "\n",
        "compound_interest()"
      ],
      "metadata": {
        "id": "hHBfCUpjdlqp",
        "colab": {
          "base_uri": "https://localhost:8080/"
        },
        "outputId": "7356ba30-2761-4eb1-c224-717d94af687b"
      },
      "execution_count": null,
      "outputs": [
        {
          "output_type": "stream",
          "name": "stdout",
          "text": [
            "Please input desired amount (€):12000\n",
            "Please input annual interest rate (%):5\n",
            "Please input desired lenght of investment (yrs):5\n",
            "The value of the investment at the end of the 5 year period, at a 5.0% interest rate, is of 15315.38 €\n",
            "End of year 1: 12600.00 €\n",
            "End of year 2: 13230.00 €\n",
            "End of year 3: 13891.50 €\n",
            "End of year 4: 14586.08 €\n",
            "End of year 5: 15315.38 €\n"
          ]
        }
      ]
    },
    {
      "cell_type": "markdown",
      "source": [
        "**ADDING ANNUAL CONTRIBUTIONS** *(EoP - End of period // BoP - Beginning of period)*"
      ],
      "metadata": {
        "id": "59I0vWqFweWh"
      }
    },
    {
      "cell_type": "code",
      "source": [
        "def comp_int_contrib_EoP():\n",
        "  try:\n",
        "    print(\"COMPOUND INTEREST OF INVESTMENT, W/ CONTRIBUTIONS AT END OF EACH YEAR\")\n",
        "    capital = float(input(\"Please input desired amount (€):\", ))\n",
        "    annual_interest_rate = float(input(\"Please input annual interest rate (%):\",))\n",
        "    inv_lenght = input(\"Please input desired lenght of investment (yrs):\",)\n",
        "    annual_contribution = float(input(\"Please input annual contribution. If there isn't any, type 0 (€):\",))\n",
        "    'Optional'\n",
        "    #print(f\"{capital:.2f}€\")\n",
        "    #print(f\"{annual_interest_rate:.2f}%\")\n",
        "    #print(f\"{inv_lenght:.2f} years\")\n",
        "\n",
        "    years = float(inv_lenght)\n",
        "    if years < 0 or years.is_integer() == False:\n",
        "      print(\"Could not calculate. Years can not be negative or contain decimals\")\n",
        "      return\n",
        "\n",
        "    inv_lenght = int(inv_lenght)\n",
        "\n",
        "    final = capital * (1+(annual_interest_rate/100))**inv_lenght + annual_contribution * (((1+(annual_interest_rate/100))**inv_lenght-1) / (annual_interest_rate/100))\n",
        "    print(f\"The value of the investment at the end of the {inv_lenght} year period, at a {annual_interest_rate}% interest rate, contributing {annual_contribution:.2f} € at the end of each period is of {final:.2f} €\")\n",
        "\n",
        "    for i in range(1, inv_lenght+1):\n",
        "\n",
        "      capital = capital * (1+(annual_interest_rate/100))\n",
        "      capital = capital + annual_contribution\n",
        "      print(f\"End of year {i}: {capital:.2f} €\")\n",
        "\n",
        "\n",
        "  except ValueError:\n",
        "    print(\"Could not calculate. Please introduce a valid number\")\n",
        "  except OverflowError:\n",
        "    print(\"Could not calculate. Please introduce smaller values\")\n",
        "\n",
        "\n",
        "\n",
        "  return\n",
        "\n",
        "def comp_int_contrib_BoP():\n",
        "  try:\n",
        "    print(\"COMPOUND INTEREST OF INVESTMENT, W/ CONTRIBUTIONS AT BEGINNING OF EACH YEAR\")\n",
        "    capital = float(input(\"Please input desired amount (€):\", ))\n",
        "    annual_interest_rate = float(input(\"Please input annual interest rate (%):\",))\n",
        "    inv_lenght = input(\"Please input desired lenght of investment (yrs):\",)\n",
        "    annual_contribution = float(input(\"Please input annual contribution. If there isn't any, type 0 (€):\",))\n",
        "    'Optional'\n",
        "    #print(f\"{capital:.2f}€\")\n",
        "    #print(f\"{annual_interest_rate:.2f}%\")\n",
        "    #print(f\"{inv_lenght:.2f} years\")\n",
        "\n",
        "    years = float(inv_lenght)\n",
        "    if years < 0 or years.is_integer() == False:\n",
        "      print(\"Could not calculate. Years can not be negative or contain decimals\")\n",
        "      return\n",
        "\n",
        "    inv_lenght = int(inv_lenght)\n",
        "\n",
        "    final = capital * (1+(annual_interest_rate/100))**inv_lenght + (annual_contribution * (((1+(annual_interest_rate/100))**inv_lenght-1) / (annual_interest_rate/100))) * (1+(annual_interest_rate/100))\n",
        "    print(f\"The value of the investment at the end of the {inv_lenght} year period, at a {annual_interest_rate}% interest rate, contributing {annual_contribution:.2f} € at the beginnig of each period, is of {final:.2f} €\")\n",
        "\n",
        "    for i in range(1, inv_lenght+1):\n",
        "\n",
        "      capital = capital + annual_contribution\n",
        "      capital = capital * (1+(annual_interest_rate/100))\n",
        "\n",
        "      print(f\"End of year {i}: {capital:.2f} €\")\n",
        "\n",
        "\n",
        "  except ValueError:\n",
        "    print(\"Could not calculate. Please introduce a valid number\")\n",
        "  except OverflowError:\n",
        "    print(\"Could not calculate. Please introduce smaller values\")\n",
        "\n",
        "\n",
        "\n",
        "  return\n",
        "\n",
        "comp_int_contrib_EoP()\n",
        "\n",
        "comp_int_contrib_BoP()\n"
      ],
      "metadata": {
        "colab": {
          "base_uri": "https://localhost:8080/",
          "height": 373
        },
        "id": "LFutCb3BweEe",
        "outputId": "c035df61-da52-4830-c1a6-03a4935b9e4c"
      },
      "execution_count": null,
      "outputs": [
        {
          "output_type": "stream",
          "name": "stdout",
          "text": [
            "COMPOUND INTEREST OF INVESTMENT, W/ CONTRIBUTIONS AT END OF EACH YEAR\n"
          ]
        },
        {
          "output_type": "error",
          "ename": "KeyboardInterrupt",
          "evalue": "Interrupted by user",
          "traceback": [
            "\u001b[0;31m---------------------------------------------------------------------------\u001b[0m",
            "\u001b[0;31mKeyboardInterrupt\u001b[0m                         Traceback (most recent call last)",
            "\u001b[0;32m/tmp/ipython-input-3235070686.py\u001b[0m in \u001b[0;36m<cell line: 0>\u001b[0;34m()\u001b[0m\n\u001b[1;32m     76\u001b[0m   \u001b[0;32mreturn\u001b[0m\u001b[0;34m\u001b[0m\u001b[0;34m\u001b[0m\u001b[0m\n\u001b[1;32m     77\u001b[0m \u001b[0;34m\u001b[0m\u001b[0m\n\u001b[0;32m---> 78\u001b[0;31m \u001b[0mcompound_interest_contrib_EoP\u001b[0m\u001b[0;34m(\u001b[0m\u001b[0;34m)\u001b[0m \u001b[0;34m/\u001b[0m\u001b[0mn\u001b[0m\u001b[0;34m\u001b[0m\u001b[0;34m\u001b[0m\u001b[0m\n\u001b[0m\u001b[1;32m     79\u001b[0m \u001b[0;34m\u001b[0m\u001b[0m\n\u001b[1;32m     80\u001b[0m \u001b[0mcompound_interest_contrib_BoP\u001b[0m\u001b[0;34m(\u001b[0m\u001b[0;34m)\u001b[0m\u001b[0;34m\u001b[0m\u001b[0;34m\u001b[0m\u001b[0m\n",
            "\u001b[0;32m/tmp/ipython-input-3235070686.py\u001b[0m in \u001b[0;36mcompound_interest_contrib_EoP\u001b[0;34m()\u001b[0m\n\u001b[1;32m      2\u001b[0m   \u001b[0;32mtry\u001b[0m\u001b[0;34m:\u001b[0m\u001b[0;34m\u001b[0m\u001b[0;34m\u001b[0m\u001b[0m\n\u001b[1;32m      3\u001b[0m     \u001b[0mprint\u001b[0m\u001b[0;34m(\u001b[0m\u001b[0;34m\"COMPOUND INTEREST OF INVESTMENT, W/ CONTRIBUTIONS AT END OF EACH YEAR\"\u001b[0m\u001b[0;34m)\u001b[0m\u001b[0;34m\u001b[0m\u001b[0;34m\u001b[0m\u001b[0m\n\u001b[0;32m----> 4\u001b[0;31m     \u001b[0mcapital\u001b[0m \u001b[0;34m=\u001b[0m \u001b[0mfloat\u001b[0m\u001b[0;34m(\u001b[0m\u001b[0minput\u001b[0m\u001b[0;34m(\u001b[0m\u001b[0;34m\"Please input desired amount (€):\"\u001b[0m\u001b[0;34m,\u001b[0m \u001b[0;34m)\u001b[0m\u001b[0;34m)\u001b[0m\u001b[0;34m\u001b[0m\u001b[0;34m\u001b[0m\u001b[0m\n\u001b[0m\u001b[1;32m      5\u001b[0m     \u001b[0mannual_interest_rate\u001b[0m \u001b[0;34m=\u001b[0m \u001b[0mfloat\u001b[0m\u001b[0;34m(\u001b[0m\u001b[0minput\u001b[0m\u001b[0;34m(\u001b[0m\u001b[0;34m\"Please input annual interest rate (%):\"\u001b[0m\u001b[0;34m,\u001b[0m\u001b[0;34m)\u001b[0m\u001b[0;34m)\u001b[0m\u001b[0;34m\u001b[0m\u001b[0;34m\u001b[0m\u001b[0m\n\u001b[1;32m      6\u001b[0m     \u001b[0minv_lenght\u001b[0m \u001b[0;34m=\u001b[0m \u001b[0minput\u001b[0m\u001b[0;34m(\u001b[0m\u001b[0;34m\"Please input desired lenght of investment (yrs):\"\u001b[0m\u001b[0;34m,\u001b[0m\u001b[0;34m)\u001b[0m\u001b[0;34m\u001b[0m\u001b[0;34m\u001b[0m\u001b[0m\n",
            "\u001b[0;32m/usr/local/lib/python3.12/dist-packages/ipykernel/kernelbase.py\u001b[0m in \u001b[0;36mraw_input\u001b[0;34m(self, prompt)\u001b[0m\n\u001b[1;32m   1175\u001b[0m                 \u001b[0;34m\"raw_input was called, but this frontend does not support input requests.\"\u001b[0m\u001b[0;34m\u001b[0m\u001b[0;34m\u001b[0m\u001b[0m\n\u001b[1;32m   1176\u001b[0m             )\n\u001b[0;32m-> 1177\u001b[0;31m         return self._input_request(\n\u001b[0m\u001b[1;32m   1178\u001b[0m             \u001b[0mstr\u001b[0m\u001b[0;34m(\u001b[0m\u001b[0mprompt\u001b[0m\u001b[0;34m)\u001b[0m\u001b[0;34m,\u001b[0m\u001b[0;34m\u001b[0m\u001b[0;34m\u001b[0m\u001b[0m\n\u001b[1;32m   1179\u001b[0m             \u001b[0mself\u001b[0m\u001b[0;34m.\u001b[0m\u001b[0m_parent_ident\u001b[0m\u001b[0;34m[\u001b[0m\u001b[0;34m\"shell\"\u001b[0m\u001b[0;34m]\u001b[0m\u001b[0;34m,\u001b[0m\u001b[0;34m\u001b[0m\u001b[0;34m\u001b[0m\u001b[0m\n",
            "\u001b[0;32m/usr/local/lib/python3.12/dist-packages/ipykernel/kernelbase.py\u001b[0m in \u001b[0;36m_input_request\u001b[0;34m(self, prompt, ident, parent, password)\u001b[0m\n\u001b[1;32m   1217\u001b[0m             \u001b[0;32mexcept\u001b[0m \u001b[0mKeyboardInterrupt\u001b[0m\u001b[0;34m:\u001b[0m\u001b[0;34m\u001b[0m\u001b[0;34m\u001b[0m\u001b[0m\n\u001b[1;32m   1218\u001b[0m                 \u001b[0;31m# re-raise KeyboardInterrupt, to truncate traceback\u001b[0m\u001b[0;34m\u001b[0m\u001b[0;34m\u001b[0m\u001b[0m\n\u001b[0;32m-> 1219\u001b[0;31m                 \u001b[0;32mraise\u001b[0m \u001b[0mKeyboardInterrupt\u001b[0m\u001b[0;34m(\u001b[0m\u001b[0;34m\"Interrupted by user\"\u001b[0m\u001b[0;34m)\u001b[0m \u001b[0;32mfrom\u001b[0m \u001b[0;32mNone\u001b[0m\u001b[0;34m\u001b[0m\u001b[0;34m\u001b[0m\u001b[0m\n\u001b[0m\u001b[1;32m   1220\u001b[0m             \u001b[0;32mexcept\u001b[0m \u001b[0mException\u001b[0m\u001b[0;34m:\u001b[0m\u001b[0;34m\u001b[0m\u001b[0;34m\u001b[0m\u001b[0m\n\u001b[1;32m   1221\u001b[0m                 \u001b[0mself\u001b[0m\u001b[0;34m.\u001b[0m\u001b[0mlog\u001b[0m\u001b[0;34m.\u001b[0m\u001b[0mwarning\u001b[0m\u001b[0;34m(\u001b[0m\u001b[0;34m\"Invalid Message:\"\u001b[0m\u001b[0;34m,\u001b[0m \u001b[0mexc_info\u001b[0m\u001b[0;34m=\u001b[0m\u001b[0;32mTrue\u001b[0m\u001b[0;34m)\u001b[0m\u001b[0;34m\u001b[0m\u001b[0;34m\u001b[0m\u001b[0m\n",
            "\u001b[0;31mKeyboardInterrupt\u001b[0m: Interrupted by user"
          ]
        }
      ]
    },
    {
      "cell_type": "markdown",
      "source": [
        "**MERGE INTO SINGLE FUNCTION** (comp_int_contrib()): This function allows the user to choose:\n",
        "1. Whether to make annual contributions or not\n",
        "2. If annual contributions are made at the beginnig of each year\n",
        "3. If annual contributions are made at the end of each year\n",
        "\n",
        "Additionally, it calculates the total amount of capital contributed and net profit of the investment"
      ],
      "metadata": {
        "id": "TIi7zwT9UKCN"
      }
    },
    {
      "cell_type": "code",
      "source": [
        "def comp_int_contrib():\n",
        "  try:\n",
        "    print(\"COMPOUND INTEREST OF INVESTMENT, W/ OPTION TO CONTRIBUTE ANNUALLY\")\n",
        "    capital = float(input(\"Please input desired amount (€):\", ))\n",
        "    annual_interest_rate = float(input(\"Please input annual interest rate (%):\",))\n",
        "    inv_lenght = input(\"Please input desired lenght of investment (yrs):\",)\n",
        "    annual_contribution = float(input(\"Please input annual contribution. If there isn't any, type 0 (€):\",))\n",
        "    init_cap = capital\n",
        "    'Optional'\n",
        "    #print(f\"{capital:.2f}€\")\n",
        "    #print(f\"{annual_interest_rate:.2f}%\")\n",
        "    #print(f\"{inv_lenght:.2f} years\")\n",
        "\n",
        "    years = float(inv_lenght)\n",
        "    if years <= 0 or years.is_integer() == False:\n",
        "      print(\"Could not calculate. Years can not be negative, 0 or contain decimals\")\n",
        "      return\n",
        "\n",
        "    inv_lenght = int(inv_lenght)\n",
        "\n",
        "    if annual_contribution < 0:\n",
        "      print(\"Could not calculate. Contributions can not be negative\")\n",
        "      return\n",
        "\n",
        "    if annual_contribution == 0:\n",
        "      final = capital * (1+(annual_interest_rate/100))**inv_lenght\n",
        "      print(f\"The value of the investment at the end of the {inv_lenght} year period, at a {annual_interest_rate}% interest rate, is of {final:.2f} €\")\n",
        "\n",
        "      for i in range(1, inv_lenght+1):\n",
        "\n",
        "        final = capital * (1+(annual_interest_rate/100))**i\n",
        "\n",
        "        print(f\"End of year {i}: {final:.2f} €\")\n",
        "\n",
        "    elif annual_contribution > 0:\n",
        "      try:\n",
        "        contr_time = float(input(\"Choose if contributions are made at the beggining or end of period:\\n\" \"Type O to add in beginning\\n\" \"Type 1 to add at end\\n\",))\n",
        "\n",
        "        if contr_time not in (0,1):\n",
        "          print(\"Value must be 0 or 1\")\n",
        "          return\n",
        "\n",
        "        elif contr_time == 0:\n",
        "          final = capital * (1+(annual_interest_rate/100))**inv_lenght + (annual_contribution * (((1+(annual_interest_rate/100))**inv_lenght-1) / (annual_interest_rate/100))) * (1+(annual_interest_rate/100))\n",
        "          print(f\"The value of the investment at the end of the {inv_lenght} year period, at a {annual_interest_rate}% interest rate, contributing {annual_contribution:.2f} € at the beginnig of each period, is of {final:.2f} €\")\n",
        "\n",
        "          for i in range(1, inv_lenght+1):\n",
        "\n",
        "            capital = capital + annual_contribution\n",
        "            capital = capital * (1+(annual_interest_rate/100))\n",
        "\n",
        "            print(f\"End of year {i}: {capital:.2f} €\")\n",
        "\n",
        "        elif contr_time == 1:\n",
        "          final = capital * (1+(annual_interest_rate/100))**inv_lenght + annual_contribution * (((1+(annual_interest_rate/100))**inv_lenght-1) / (annual_interest_rate/100))\n",
        "          print(f\"The value of the investment at the end of the {inv_lenght} year period, at a {annual_interest_rate}% interest rate, contributing {annual_contribution:.2f} € at the end of each period is of {final:.2f} €\")\n",
        "\n",
        "          for i in range(1, inv_lenght+1):\n",
        "\n",
        "              capital = capital * (1+(annual_interest_rate/100))\n",
        "              capital = capital + annual_contribution\n",
        "              print(f\"End of year {i}: {capital:.2f} €\")\n",
        "      except ValueError:\n",
        "        print(\"Could not calculate. Please introduce a valid number\")\n",
        "      except OverflowError:\n",
        "        print(\"Could not calculate. Please introduce smaller values\")\n",
        "\n",
        "    total_contr = init_cap + (annual_contribution*inv_lenght)\n",
        "    net_profit = final - total_contr\n",
        "    print(f\"At the end of the period, you will have contributed {total_contr:.2f}€\\nMeaning a net profit of {net_profit:.2f}€\")\n",
        "\n",
        "  except ValueError:\n",
        "    print(\"Could not calculate. Please introduce a valid number\")\n",
        "  except OverflowError:\n",
        "    print(\"Could not calculate. Please introduce smaller values\")\n",
        "\n",
        "\n",
        "\n",
        "  return\n",
        "\n",
        "comp_int_contrib()\n"
      ],
      "metadata": {
        "colab": {
          "base_uri": "https://localhost:8080/"
        },
        "outputId": "d108ed9e-79ac-4e1f-ee55-87a82cdea089",
        "id": "TmP6JbA4UMXB"
      },
      "execution_count": null,
      "outputs": [
        {
          "output_type": "stream",
          "name": "stdout",
          "text": [
            "COMPOUND INTEREST OF INVESTMENT, W/ CONTRIBUTIONS AT END OF EACH YEAR\n",
            "Please input desired amount (€):2000\n",
            "Please input annual interest rate (%):5\n",
            "Please input desired lenght of investment (yrs):5\n",
            "Please input annual contribution. If there isn't any, type 0 (€):100\n",
            "Choose if contributions are made at the beggining or end of period:\n",
            "Type O to add in beginning\n",
            "Type 1 to add at end\n",
            "1\n",
            "The value of the investment at the end of the 5 year period, at a 5.0% interest rate, contributing 100.00 € at the end of each period is of 3105.13 €\n",
            "End of year 1: 2200.00 €\n",
            "End of year 2: 2410.00 €\n",
            "End of year 3: 2630.50 €\n",
            "End of year 4: 2862.03 €\n",
            "End of year 5: 3105.13 €\n",
            "At the end of the period, you will have contributed 2500.00€\n",
            "Meaning a net profit of 605.13€\n"
          ]
        }
      ]
    },
    {
      "cell_type": "markdown",
      "source": [
        "**MONTHLY CONTRIBUTIONS @ ANNUAL CAPITALIZATION :**"
      ],
      "metadata": {
        "id": "5t3LNy911doT"
      }
    },
    {
      "cell_type": "code",
      "source": [
        "def comp_int_annual_contrib():\n",
        "  try:\n",
        "    print(\"COMPOUND INTEREST OF INVESTMENT, W/ OPTION TO CONTRIBUTE MONTHLY\")\n",
        "    capital = float(input(\"Please input desired amount (€):\", ))\n",
        "    annual_interest_rate = float(input(\"Please input annual interest rate (%):\",))\n",
        "    inv_lenght = input(\"Please input desired lenght of investment (yrs):\",)\n",
        "    monthly_contribution = float(input(\"Please input monthly contribution. If there isn't any, type 0 (€):\",))\n",
        "    init_cap = capital\n",
        "    monthly_interest_rate = (annual_interest_rate/100)/12\n",
        "    'Optional'\n",
        "    #print(f\"{capital:.2f}€\")\n",
        "    #print(f\"{annual_interest_rate:.2f}%\")\n",
        "    #print(f\"{inv_lenght:.2f} years\")\n",
        "\n",
        "    years = float(inv_lenght)\n",
        "    if years <= 0 or years.is_integer() == False:\n",
        "      print(\"Could not calculate. Years can not be negative, 0 or contain decimals\")\n",
        "      return\n",
        "\n",
        "    inv_lenght = int(inv_lenght)\n",
        "    months_length = inv_lenght * 12\n",
        "\n",
        "    if monthly_contribution < 0:\n",
        "      print(\"Could not calculate. Contributions can not be negative\")\n",
        "      return\n",
        "\n",
        "    if monthly_contribution == 0:\n",
        "      final = capital * (1+(annual_interest_rate/100))**inv_lenght\n",
        "      print(f\"The value of the investment at the end of the {inv_lenght} year period, at a {annual_interest_rate}% interest rate, is of {final:.2f} €\")\n",
        "\n",
        "      for i in range(1, inv_lenght+1):\n",
        "\n",
        "        final = capital * (1+(annual_interest_rate/100))**i\n",
        "\n",
        "        print(f\"End of year {i}: {final:.2f} €\")\n",
        "\n",
        "    elif monthly_contribution > 0:\n",
        "      try:\n",
        "        contr_time = float(input(\"Choose if contributions are made at the beggining or end of period:\\n\" \"Type O to add in beginning\\n\" \"Type 1 to add at end\\n\",))\n",
        "\n",
        "        if contr_time not in (0,1):\n",
        "          print(\"Value must be 0 or 1\")\n",
        "          return\n",
        "\n",
        "        elif contr_time == 0:\n",
        "          final = capital * (1+(monthly_interest_rate))**months_length + (monthly_contribution * (((1+(monthly_interest_rate))**months_length-1) / (monthly_interest_rate))) * (1+(monthly_interest_rate))\n",
        "          print(f\"The value of the investment at the end of the {inv_lenght} year period, at a {annual_interest_rate}% interest rate, contributing {monthly_contribution:.2f} € at the beginnig of each month, is of {final:.2f} €\")\n",
        "\n",
        "          for i in range(1, months_length+1):\n",
        "\n",
        "            capital = capital + monthly_contribution\n",
        "            capital = capital * (1+(monthly_interest_rate))\n",
        "\n",
        "            if i % 12 == 0:\n",
        "              print(f\"End of year {i//12}: {capital:.2f} €\")\n",
        "\n",
        "        elif contr_time == 1:\n",
        "          final = capital * (1+(monthly_interest_rate))**months_length + monthly_contribution * (((1+(monthly_interest_rate))**months_length-1) / (monthly_interest_rate))\n",
        "          print(f\"The value of the investment at the end of the {inv_lenght} year period, at a {annual_interest_rate}% interest rate, contributing {monthly_contribution:.2f} € at the end of each month is of {final:.2f} €\")\n",
        "\n",
        "          for i in range(1, months_length+1):\n",
        "\n",
        "              capital = capital * (1+(monthly_interest_rate))\n",
        "              capital = capital + monthly_contribution\n",
        "\n",
        "              if i % 12 == 0:\n",
        "                print(f\"End of year {i//12}: {capital:.2f} €\")\n",
        "\n",
        "\n",
        "      except ValueError:\n",
        "        print(\"Could not calculate. Please introduce a valid number\")\n",
        "      except OverflowError:\n",
        "        print(\"Could not calculate. Please introduce smaller values\")\n",
        "\n",
        "\n",
        "    total_contr = init_cap + (monthly_contribution*months_length)\n",
        "    net_profit = final - total_contr\n",
        "    print(f\"At the end of the period, you will have contributed {total_contr:.2f}€\\nMeaning a net profit of {net_profit:.2f}€\")\n",
        "\n",
        "  except ValueError:\n",
        "    print(\"Could not calculate. Please introduce a valid number\")\n",
        "  except OverflowError:\n",
        "    print(\"Could not calculate. Please introduce smaller values\")\n",
        "\n",
        "\n",
        "\n",
        "  return\n",
        "\n",
        "comp_int_annual_contrib()"
      ],
      "metadata": {
        "colab": {
          "base_uri": "https://localhost:8080/"
        },
        "id": "IIfu4yxF1gX5",
        "outputId": "7d1a7120-b708-4e58-cb55-1c494516a960"
      },
      "execution_count": null,
      "outputs": [
        {
          "output_type": "stream",
          "name": "stdout",
          "text": [
            "COMPOUND INTEREST OF INVESTMENT, W/ OPTION TO CONTRIBUTE MONTHLY\n",
            "Please input desired amount (€):2000\n",
            "Please input annual interest rate (%):5\n",
            "Please input desired lenght of investment (yrs):5\n",
            "Please input monthly contribution. If there isn't any, type 0 (€):10\n",
            "Choose if contributions are made at the beggining or end of period:\n",
            "Type O to add in beginning\n",
            "Type 1 to add at end\n",
            "1\n",
            "The value of the investment at the end of the 5 year period, at a 5.0% interest rate, contributing 10.00 € at the end of each month is of 3246.78 €\n",
            "End of year 1: 2225.11 €\n",
            "End of year 2: 2461.74 €\n",
            "End of year 3: 2710.48 €\n",
            "End of year 4: 2971.94 €\n",
            "End of year 5: 3246.78 €\n",
            "At the end of the period, you will have contributed 2600.00€\n",
            "Meaning a net profit of 646.78€\n"
          ]
        }
      ]
    },
    {
      "cell_type": "markdown",
      "source": [
        "**MONTHLY CONTRIBUTIONS @ MONTHLY CAPITALIZATION**       interés efectivo\n"
      ],
      "metadata": {
        "id": "KwYtQQ8OC_eD"
      }
    },
    {
      "cell_type": "code",
      "source": [
        "def comp_int_calc():\n",
        "  try:\n",
        "    print(\"COMPOUND INTEREST OF INVESTMENT, W/ OPTION TO CONTRIBUTE MONTHLY\")\n",
        "    capital = float(input(\"Please input desired amount (€):\", ))\n",
        "    annual_interest_rate = float(input(\"Please input annual interest rate (%):\",))\n",
        "    inv_lenght = input(\"Please input desired lenght of investment (yrs):\",)\n",
        "    monthly_contribution = float(input(\"Please input monthly contribution. If there isn't any, type 0 (€):\",))\n",
        "    init_cap = capital\n",
        "    monthly_interest_rate = (1+annual_interest_rate/100)**(1/12)-1\n",
        "    'Optional'\n",
        "    #print(f\"{capital:.2f}€\")\n",
        "    #print(f\"{annual_interest_rate:.2f}%\")\n",
        "    #print(f\"{inv_lenght:.2f} years\")\n",
        "\n",
        "    years = float(inv_lenght)\n",
        "    if years <= 0 or years.is_integer() == False:\n",
        "      print(\"Could not calculate. Years can not be negative, 0 or contain decimals\")\n",
        "      return\n",
        "\n",
        "    inv_lenght = int(inv_lenght)\n",
        "    months_length = inv_lenght * 12\n",
        "\n",
        "    if monthly_contribution < 0:\n",
        "      print(\"Could not calculate. Contributions can not be negative\")\n",
        "      return\n",
        "\n",
        "    if monthly_contribution == 0:\n",
        "      final = capital * (1+(annual_interest_rate/100))**inv_lenght\n",
        "      print(f\"The value of the investment at the end of the {inv_lenght} year period, at a {annual_interest_rate}% interest rate, is of {final:.2f} €\")\n",
        "\n",
        "      for i in range(1, inv_lenght+1):\n",
        "\n",
        "        final = capital * (1+(annual_interest_rate/100))**i\n",
        "\n",
        "        print(f\"End of year {i}: {final:.2f} €\")\n",
        "\n",
        "    elif monthly_contribution > 0:\n",
        "      try:\n",
        "        contr_time = float(input(\"Choose if contributions are made at the beggining or end of period:\\n\" \"Type O to add in beginning\\n\" \"Type 1 to add at end\\n\",))\n",
        "\n",
        "        if contr_time not in (0,1):\n",
        "          print(\"Value must be 0 or 1\")\n",
        "          return\n",
        "\n",
        "        elif contr_time == 0:\n",
        "          final = capital * (1+(monthly_interest_rate))**months_length + (monthly_contribution * (((1+(monthly_interest_rate))**months_length-1) / (monthly_interest_rate))) * (1+(monthly_interest_rate))\n",
        "          print(f\"The value of the investment at the end of the {inv_lenght} year period, at a {annual_interest_rate}% interest rate, contributing {monthly_contribution:.2f} € at the beginnig of each month, is of {final:.2f} €\")\n",
        "\n",
        "          for i in range(1, months_length+1):\n",
        "\n",
        "            capital = capital + monthly_contribution\n",
        "            capital = capital * (1+(monthly_interest_rate))\n",
        "\n",
        "            if i % 12 == 0:\n",
        "              print(f\"End of year {i//12}: {capital:.2f} €\")\n",
        "\n",
        "        elif contr_time == 1:\n",
        "          final = capital * (1+(monthly_interest_rate))**months_length + monthly_contribution * (((1+(monthly_interest_rate))**months_length-1) / (monthly_interest_rate))\n",
        "          print(f\"The value of the investment at the end of the {inv_lenght} year period, at a {annual_interest_rate}% interest rate, contributing {monthly_contribution:.2f} € at the end of each month is of {final:.2f} €\")\n",
        "\n",
        "          for i in range(1, months_length+1):\n",
        "\n",
        "              capital = capital * (1+(monthly_interest_rate))\n",
        "              capital = capital + monthly_contribution\n",
        "\n",
        "              if i % 12 == 0:\n",
        "                print(f\"End of year {i//12}: {capital:.2f} €\")\n",
        "\n",
        "\n",
        "      except ValueError:\n",
        "        print(\"Could not calculate. Please introduce a valid number\")\n",
        "      except OverflowError:\n",
        "        print(\"Could not calculate. Please introduce smaller values\")\n",
        "\n",
        "\n",
        "    total_contr = init_cap + (monthly_contribution*months_length)\n",
        "    net_profit = final - total_contr\n",
        "    print(f\"At the end of the period, you will have contributed {total_contr:.2f}€\\nMeaning a net profit of {net_profit:.2f}€\")\n",
        "\n",
        "  except ValueError:\n",
        "    print(\"Could not calculate. Please introduce a valid number\")\n",
        "  except OverflowError:\n",
        "    print(\"Could not calculate. Please introduce smaller values\")\n",
        "\n",
        "\n",
        "\n",
        "  return\n",
        "\n",
        "comp_int_calc()"
      ],
      "metadata": {
        "colab": {
          "base_uri": "https://localhost:8080/"
        },
        "outputId": "7d1a7120-b708-4e58-cb55-1c494516a960",
        "id": "BfZPKfE5DCZL"
      },
      "execution_count": null,
      "outputs": [
        {
          "output_type": "stream",
          "name": "stdout",
          "text": [
            "COMPOUND INTEREST OF INVESTMENT, W/ OPTION TO CONTRIBUTE MONTHLY\n",
            "Please input desired amount (€):2000\n",
            "Please input annual interest rate (%):5\n",
            "Please input desired lenght of investment (yrs):5\n",
            "Please input monthly contribution. If there isn't any, type 0 (€):10\n",
            "Choose if contributions are made at the beggining or end of period:\n",
            "Type O to add in beginning\n",
            "Type 1 to add at end\n",
            "1\n",
            "The value of the investment at the end of the 5 year period, at a 5.0% interest rate, contributing 10.00 € at the end of each month is of 3246.78 €\n",
            "End of year 1: 2225.11 €\n",
            "End of year 2: 2461.74 €\n",
            "End of year 3: 2710.48 €\n",
            "End of year 4: 2971.94 €\n",
            "End of year 5: 3246.78 €\n",
            "At the end of the period, you will have contributed 2600.00€\n",
            "Meaning a net profit of 646.78€\n"
          ]
        }
      ]
    }
  ]
}